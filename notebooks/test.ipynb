{
 "cells": [
  {
   "cell_type": "code",
   "execution_count": 1,
   "metadata": {},
   "outputs": [],
   "source": [
    "import numpy as np\n",
    "import matplotlib.pyplot as plt"
   ]
  },
  {
   "cell_type": "code",
   "execution_count": 2,
   "metadata": {},
   "outputs": [],
   "source": [
    "cost_matrix = np.array([\n",
    "    [1, 2, 3],\n",
    "    [4, 5, 6],\n",
    "    [7, 8, 9]\n",
    "])\n",
    "\n",
    "lambdas_l = np.array([0.25, 1.0, 5.0])\n",
    "lambdas_w = np.array([0.1, 0.5, 2.0])\n",
    "\n",
    "C = 1.0\n",
    "n_areas = cost_matrix.shape[0]"
   ]
  },
  {
   "cell_type": "code",
   "execution_count": 3,
   "metadata": {},
   "outputs": [
    {
     "data": {
      "text/plain": [
       "array([[0.35, 0.75, 2.25],\n",
       "       [1.1 , 1.5 , 3.  ],\n",
       "       [5.1 , 5.5 , 7.  ]])"
      ]
     },
     "execution_count": 3,
     "metadata": {},
     "output_type": "execute_result"
    }
   ],
   "source": [
    "lambdas_w + np.reshape(lambdas_l, (n_areas, 1))"
   ]
  },
  {
   "cell_type": "code",
   "execution_count": 4,
   "metadata": {},
   "outputs": [],
   "source": [
    "reconstructed_correspondence_matrix_vectorized = (\n",
    "   np.exp(-1 - cost_matrix / C) *\n",
    "   np.exp(np.reshape(-lambdas_l, (n_areas, 1)) - lambdas_w)\n",
    ")"
   ]
  },
  {
   "cell_type": "code",
   "execution_count": 5,
   "metadata": {},
   "outputs": [],
   "source": [
    "reconstructed_correspondence_matrix_raw = np.zeros((n_areas, n_areas))\n",
    "for i in range(n_areas):\n",
    "    for j in range(n_areas):\n",
    "        reconstructed_correspondence_matrix_raw[i, j] = (\n",
    "            np.exp(-lambdas_l[i] - lambdas_w[j] - 1 - cost_matrix[i, j] / C)\n",
    "        )"
   ]
  },
  {
   "cell_type": "code",
   "execution_count": 6,
   "metadata": {},
   "outputs": [
    {
     "data": {
      "text/plain": [
       "array([[9.53691622e-02, 2.35177459e-02, 1.93045414e-03],\n",
       "       [2.24286772e-03, 5.53084370e-04, 4.53999298e-05],\n",
       "       [2.04523062e-06, 5.04347663e-07, 4.13993772e-08]])"
      ]
     },
     "execution_count": 6,
     "metadata": {},
     "output_type": "execute_result"
    }
   ],
   "source": [
    "reconstructed_correspondence_matrix_vectorized"
   ]
  },
  {
   "cell_type": "code",
   "execution_count": 7,
   "metadata": {},
   "outputs": [
    {
     "data": {
      "text/plain": [
       "array([[9.53691622e-02, 2.35177459e-02, 1.93045414e-03],\n",
       "       [2.24286772e-03, 5.53084370e-04, 4.53999298e-05],\n",
       "       [2.04523062e-06, 5.04347663e-07, 4.13993772e-08]])"
      ]
     },
     "execution_count": 7,
     "metadata": {},
     "output_type": "execute_result"
    }
   ],
   "source": [
    "reconstructed_correspondence_matrix_raw"
   ]
  },
  {
   "cell_type": "code",
   "execution_count": 8,
   "metadata": {},
   "outputs": [],
   "source": [
    "norm_living_people = np.array([100, 200, 300])\n",
    "norm_working_people = np.array([8, 16, 64])\n",
    "\n",
    "lambdas_l = np.array([0.25, 1.0, 5.0])\n",
    "lambdas_w = np.array([0.1, 0.5, 2.0])"
   ]
  },
  {
   "cell_type": "code",
   "execution_count": 9,
   "metadata": {},
   "outputs": [
    {
     "name": "stdout",
     "output_type": "stream",
     "text": [
      "[ -6.46864546 -10.16179264 -13.56725775]\n"
     ]
    }
   ],
   "source": [
    "for iter_idx in range(2):\n",
    "    if iter_idx % 2 == 0:\n",
    "        new_lambdas_w = lambdas_w\n",
    "        new_lambdas_l = np.log(np.sum(\n",
    "            (np.exp(-lambdas_w - 1 - cost_matrix / C)).T\n",
    "            / norm_living_people, axis=0\n",
    "        ))\n",
    "        print(new_lambdas_l)\n",
    "    else:\n",
    "        new_lambdas_l = lambdas_l\n",
    "        new_lambdas_w = np.log(np.sum(\n",
    "            (np.exp(-lambdas_l - 1 - cost_matrix.T / C)).T\n",
    "            / norm_working_people, axis=0\n",
    "        ))\n",
    "        \n",
    "    lambdas_l = new_lambdas_l\n",
    "    lambdas_w = new_lambdas_w"
   ]
  },
  {
   "cell_type": "code",
   "execution_count": 10,
   "metadata": {},
   "outputs": [
    {
     "data": {
      "text/plain": [
       "array([ -6.46864546, -10.16179264, -13.56725775])"
      ]
     },
     "execution_count": 10,
     "metadata": {},
     "output_type": "execute_result"
    }
   ],
   "source": [
    "lambdas_l"
   ]
  },
  {
   "cell_type": "code",
   "execution_count": 11,
   "metadata": {},
   "outputs": [
    {
     "data": {
      "text/plain": [
       "array([4.18096339, 2.48781621, 0.10152185])"
      ]
     },
     "execution_count": 11,
     "metadata": {},
     "output_type": "execute_result"
    }
   ],
   "source": [
    "lambdas_w"
   ]
  },
  {
   "cell_type": "code",
   "execution_count": 12,
   "metadata": {},
   "outputs": [],
   "source": [
    "lambdas_l = np.array([0.25, 1.0, 5.0])\n",
    "lambdas_w = np.array([0.1, 0.5, 2.0])"
   ]
  },
  {
   "cell_type": "code",
   "execution_count": 13,
   "metadata": {},
   "outputs": [],
   "source": [
    "for iter_idx in range(2):\n",
    "    if iter_idx % 2 == 0:\n",
    "        for i in range(n_areas):\n",
    "            summa = 0\n",
    "            for j in range(n_areas):\n",
    "                summa += (\n",
    "                    np.exp(-lambdas_w[j]) / norm_living_people[i]\n",
    "                    / np.exp(1 + cost_matrix[i, j] / C)\n",
    "                )\n",
    "            lambdas_l[i] = np.log(summa)\n",
    "    else:\n",
    "        for j in range(n_areas):\n",
    "            summa = 0\n",
    "            for i in range(n_areas):\n",
    "                summa += (\n",
    "                    np.exp(-lambdas_l[i]) / norm_working_people[j]\n",
    "                    / np.exp(1 + cost_matrix[i, j] / C)\n",
    "                )\n",
    "            lambdas_w[j] = np.log(summa)"
   ]
  },
  {
   "cell_type": "code",
   "execution_count": 14,
   "metadata": {},
   "outputs": [
    {
     "data": {
      "text/plain": [
       "array([ -6.46864546, -10.16179264, -13.56725775])"
      ]
     },
     "execution_count": 14,
     "metadata": {},
     "output_type": "execute_result"
    }
   ],
   "source": [
    "lambdas_l"
   ]
  },
  {
   "cell_type": "code",
   "execution_count": 15,
   "metadata": {},
   "outputs": [
    {
     "data": {
      "text/plain": [
       "array([4.18096339, 2.48781621, 0.10152185])"
      ]
     },
     "execution_count": 15,
     "metadata": {},
     "output_type": "execute_result"
    }
   ],
   "source": [
    "lambdas_w"
   ]
  },
  {
   "cell_type": "code",
   "execution_count": 5,
   "metadata": {},
   "outputs": [],
   "source": []
  },
  {
   "cell_type": "code",
   "execution_count": 10,
   "metadata": {},
   "outputs": [
    {
     "data": {
      "text/plain": [
       "<matplotlib.colorbar.Colorbar at 0x7f5b4a2ad710>"
      ]
     },
     "execution_count": 10,
     "metadata": {},
     "output_type": "execute_result"
    },
    {
     "data": {
      "image/png": "[encoded data removed]",
      "text/plain": [
       "<Figure size 432x288 with 2 Axes>"
      ]
     },
     "metadata": {},
     "output_type": "display_data"
    }
   ],
   "source": [
    "a = np.random.rand(10, 10)\n",
    "\n",
    "plt.imshow(a, cmap='viridis')\n",
    "plt.colorbar()"
   ]
  },
  {
   "cell_type": "code",
   "execution_count": 20,
   "metadata": {},
   "outputs": [
    {
     "name": "stdout",
     "output_type": "stream",
     "text": [
      "(1000, 1000)\n"
     ]
    },
    {
     "data": {
      "image/png": "[encoded data removed]",
      "text/plain": [
       "<Figure size 432x288 with 2 Axes>"
      ]
     },
     "metadata": {},
     "output_type": "display_data"
    }
   ],
   "source": [
    "import matplotlib.pyplot as plt\n",
    "import numpy as np\n",
    "\n",
    "\n",
    "def heatmap2d(arr):\n",
    "    plt.imshow(arr, cmap='viridis')\n",
    "    plt.colorbar()\n",
    "    plt.show()\n",
    "\n",
    "\n",
    "test_array = np.arange(1000 * 1000).reshape(1000, 1000) / 10000\n",
    "print(test_array.shape)\n",
    "heatmap2d(test_array)"
   ]
  },
  {
   "cell_type": "code",
   "execution_count": 14,
   "metadata": {},
   "outputs": [
    {
     "data": {
      "text/plain": [
       "array([[   0,    1,    2, ...,   97,   98,   99],\n",
       "       [ 100,  101,  102, ...,  197,  198,  199],\n",
       "       [ 200,  201,  202, ...,  297,  298,  299],\n",
       "       ...,\n",
       "       [9700, 9701, 9702, ..., 9797, 9798, 9799],\n",
       "       [9800, 9801, 9802, ..., 9897, 9898, 9899],\n",
       "       [9900, 9901, 9902, ..., 9997, 9998, 9999]])"
      ]
     },
     "execution_count": 14,
     "metadata": {},
     "output_type": "execute_result"
    }
   ],
   "source": [
    "test_array"
   ]
  }
 ],
 "metadata": {
  "kernelspec": {
   "display_name": "Python 3",
   "language": "python",
   "name": "python3"
  },
  "language_info": {
   "codemirror_mode": {
    "name": "ipython",
    "version": 3
   },
   "file_extension": ".py",
   "mimetype": "text/x-python",
   "name": "python",
   "nbconvert_exporter": "python",
   "pygments_lexer": "ipython3",
   "version": "3.6.5"
  }
 },
 "nbformat": 4,
 "nbformat_minor": 2
}
