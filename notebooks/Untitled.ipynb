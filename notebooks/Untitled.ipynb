{
 "cells": [
  {
   "cell_type": "code",
   "execution_count": 1,
   "metadata": {},
   "outputs": [],
   "source": [
    "import numpy as np\n",
    "import matplotlib.pyplot as plt"
   ]
  },
  {
   "cell_type": "code",
   "execution_count": null,
   "metadata": {},
   "outputs": [],
   "source": []
  },
  {
   "cell_type": "code",
   "execution_count": 2,
   "metadata": {},
   "outputs": [],
   "source": [
    "n = 3  # WTF? Global variable?"
   ]
  },
  {
   "cell_type": "code",
   "execution_count": 3,
   "metadata": {},
   "outputs": [],
   "source": [
    "def Sinkhorn(k, lambda_W_prev, lambda_L_prev):\n",
    "    assert len(lambda_W_prev) == len(lambda_L_prev)\n",
    "    new_lambda_W = np.zeros(len(lambda_W_prev))\n",
    "    new_lambda_L = np.zeros(len(lambda_L_prev))\n",
    "    \n",
    "    summa = 0\n",
    "    if k % 2 == 0:\n",
    "        for i in range(n):\n",
    "            for j in range(n):\n",
    "                summa += ( np.exp(-lambda_W_prev[j]) / \n",
    "                            L[i] * np.exp(1 + beta * alpha * T[i][j]) )\n",
    "            new_lambda_L[i] = np.log(summa)\n",
    "        new_lambda_W = lambda_W_prev\n",
    "    else:\n",
    "        for j in range(n):\n",
    "            for i in range(n):\n",
    "                summa += ( np.exp(-lambda_L_prev[i]) / \n",
    "                            W[j] * np.exp(1 + beta * alpha * T[j][i]) )\n",
    "            new_lambda_W[j] = np.log(summa)\n",
    "        new_lambda_L = lambda_L_prev\n",
    "        \n",
    "    return new_lambda_W, new_lambda_L"
   ]
  },
  {
   "cell_type": "code",
   "execution_count": 4,
   "metadata": {},
   "outputs": [],
   "source": [
    "def my_Sinkhorn(k, lambdas_l, lambdas_w):\n",
    "    if k % 2 == 0:\n",
    "        new_lambdas_w = lambdas_w\n",
    "        new_lambdas_l = np.log(np.sum(\n",
    "            (np.exp(-lambdas_w - 1 - self.cost_matrix / self.C)).T\n",
    "            / norm_living_people, axis=0\n",
    "        ))\n",
    "    else:\n",
    "        new_lambdas_l = lambdas_l\n",
    "        new_lambdas_w = np.log(np.sum(\n",
    "            (np.exp(-lambdas_l - 1 - self.cost_matrix / self.C)).T\n",
    "            / norm_working_people, axis=0\n",
    "        ))"
   ]
  },
  {
   "cell_type": "code",
   "execution_count": 5,
   "metadata": {},
   "outputs": [],
   "source": [
    "prev_lambdas_l = np.array([0, 0, 0])\n",
    "prev_lambdas_w = np.array([0, 0, 0])\n",
    "assert n == len(prev_lambdas_l) == len(prev_lambdas_w)\n",
    "\n",
    "iter_idx = 0"
   ]
  },
  {
   "cell_type": "code",
   "execution_count": 6,
   "metadata": {},
   "outputs": [
    {
     "ename": "NameError",
     "evalue": "name 'L' is not defined",
     "output_type": "error",
     "traceback": [
      "\u001b[0;31m---------------------------------------------------------------------------\u001b[0m",
      "\u001b[0;31mNameError\u001b[0m                                 Traceback (most recent call last)",
      "\u001b[0;32m<ipython-input-6-73a797295042>\u001b[0m in \u001b[0;36m<module>\u001b[0;34m()\u001b[0m\n\u001b[1;32m      2\u001b[0m     \u001b[0mk\u001b[0m\u001b[0;34m=\u001b[0m\u001b[0miter_idx\u001b[0m\u001b[0;34m,\u001b[0m\u001b[0;34m\u001b[0m\u001b[0m\n\u001b[1;32m      3\u001b[0m     \u001b[0mlambda_W\u001b[0m\u001b[0;34m=\u001b[0m\u001b[0mnp\u001b[0m\u001b[0;34m.\u001b[0m\u001b[0mzeros\u001b[0m\u001b[0;34m(\u001b[0m\u001b[0mlen\u001b[0m\u001b[0;34m(\u001b[0m\u001b[0mprev_lambdas_w\u001b[0m\u001b[0;34m)\u001b[0m\u001b[0;34m)\u001b[0m\u001b[0;34m,\u001b[0m \u001b[0mlambda_W_prev\u001b[0m\u001b[0;34m=\u001b[0m\u001b[0mprev_lambdas_w\u001b[0m\u001b[0;34m,\u001b[0m\u001b[0;34m\u001b[0m\u001b[0m\n\u001b[0;32m----> 4\u001b[0;31m     \u001b[0mlambda_L\u001b[0m\u001b[0;34m=\u001b[0m\u001b[0mnp\u001b[0m\u001b[0;34m.\u001b[0m\u001b[0mzeros\u001b[0m\u001b[0;34m(\u001b[0m\u001b[0mlen\u001b[0m\u001b[0;34m(\u001b[0m\u001b[0mprev_lambdas_l\u001b[0m\u001b[0;34m)\u001b[0m\u001b[0;34m)\u001b[0m\u001b[0;34m,\u001b[0m \u001b[0mlambda_L_prev\u001b[0m\u001b[0;34m=\u001b[0m\u001b[0mprev_lambdas_l\u001b[0m\u001b[0;34m\u001b[0m\u001b[0m\n\u001b[0m\u001b[1;32m      5\u001b[0m )\n",
      "\u001b[0;32m<ipython-input-3-39a16b1e759f>\u001b[0m in \u001b[0;36mSinkhorn\u001b[0;34m(k, lambda_W, lambda_W_prev, lambda_L, lambda_L_prev)\u001b[0m\n\u001b[1;32m      5\u001b[0m             \u001b[0;32mfor\u001b[0m \u001b[0mj\u001b[0m \u001b[0;32min\u001b[0m \u001b[0mrange\u001b[0m\u001b[0;34m(\u001b[0m\u001b[0mn\u001b[0m\u001b[0;34m)\u001b[0m\u001b[0;34m:\u001b[0m\u001b[0;34m\u001b[0m\u001b[0m\n\u001b[1;32m      6\u001b[0m                 summa += ( np.exp(-lambda_W_prev[j]) / \n\u001b[0;32m----> 7\u001b[0;31m                             L[i] * np.exp(1 + beta * alpha * T[i][j]) )\n\u001b[0m\u001b[1;32m      8\u001b[0m             \u001b[0mlambda_L\u001b[0m\u001b[0;34m[\u001b[0m\u001b[0mi\u001b[0m\u001b[0;34m]\u001b[0m \u001b[0;34m=\u001b[0m \u001b[0mnp\u001b[0m\u001b[0;34m.\u001b[0m\u001b[0mlog\u001b[0m\u001b[0;34m(\u001b[0m\u001b[0msumma\u001b[0m\u001b[0;34m)\u001b[0m\u001b[0;34m\u001b[0m\u001b[0m\n\u001b[1;32m      9\u001b[0m         \u001b[0mlambda_W\u001b[0m \u001b[0;34m=\u001b[0m \u001b[0mlambda_W_prev\u001b[0m\u001b[0;34m\u001b[0m\u001b[0m\n",
      "\u001b[0;31mNameError\u001b[0m: name 'L' is not defined"
     ]
    }
   ],
   "source": [
    "Sinkhorn(\n",
    "    k=iter_idx,\n",
    "    lambda_W=np.zeros(len(prev_lambdas_w)), lambda_W_prev=prev_lambdas_w,\n",
    "    lambda_L=np.zeros(len(prev_lambdas_l)), lambda_L_prev=prev_lambdas_l\n",
    ")"
   ]
  },
  {
   "cell_type": "code",
   "execution_count": null,
   "metadata": {},
   "outputs": [],
   "source": [
    "my_Sinkhorn(\n",
    "    k=iter_idx,\n",
    "    lambdas_l=prev_lambdas_l,\n",
    "    lambdas_w=prev_lambdas_w\n",
    ")"
   ]
  }
 ],
 "metadata": {
  "kernelspec": {
   "display_name": "Python 3",
   "language": "python",
   "name": "python3"
  },
  "language_info": {
   "codemirror_mode": {
    "name": "ipython",
    "version": 3
   },
   "file_extension": ".py",
   "mimetype": "text/x-python",
   "name": "python",
   "nbconvert_exporter": "python",
   "pygments_lexer": "ipython3",
   "version": "3.6.5"
  }
 },
 "nbformat": 4,
 "nbformat_minor": 2
}
